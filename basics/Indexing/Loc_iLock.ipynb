{
 "cells": [
  {
   "cell_type": "code",
   "execution_count": 5,
   "id": "f8ec5f33",
   "metadata": {},
   "outputs": [],
   "source": [
    "import numpy as np\n",
    "import pandas as pd\n",
    "\n"
   ]
  },
  {
   "cell_type": "code",
   "execution_count": 6,
   "id": "8b310b20",
   "metadata": {},
   "outputs": [
    {
     "name": "stdout",
     "output_type": "stream",
     "text": [
      "NumPy Array:\n",
      "[['Alice' 25 50000 'HR']\n",
      " ['Bob' 30 60000 'Finance']\n",
      " ['Charlie' 35 70000 'IT']\n",
      " ['David' 40 80000 'Marketing']\n",
      " ['Eve' 45 90000 'Sales']]\n"
     ]
    }
   ],
   "source": [
    "data = {\n",
    "    \"Name\": [\"Alice\", \"Bob\", \"Charlie\", \"David\", \"Eve\"],\n",
    "    \"Age\": [25, 30, 35, 40, 45],\n",
    "    \"Salary\": [50000, 60000, 70000, 80000, 90000],\n",
    "    \"Department\": [\"HR\", \"Finance\", \"IT\", \"Marketing\", \"Sales\"]\n",
    "}\n",
    "\n",
    "df = pd.DataFrame(data)\n",
    "# Convert DataFrame to NumPy array\n",
    "array = df.to_numpy()\n",
    "# Print the NumPy array\n",
    "print(\"NumPy Array:\")\n",
    "print(array)\n",
    "# Convert NumPy array back to DataFrame\n",
    "df_from_array = pd.DataFrame(array, columns=df.columns)"
   ]
  },
  {
   "cell_type": "markdown",
   "id": "7218c4c7",
   "metadata": {},
   "source": [
    "**indexing**\n"
   ]
  },
  {
   "cell_type": "code",
   "execution_count": null,
   "id": "feeb64ff",
   "metadata": {},
   "outputs": [
    {
     "name": "stdout",
     "output_type": "stream",
     "text": [
      "\n",
      "Accessing rows and columns using loc:\n",
      "Name          Alice\n",
      "Age              25\n",
      "Salary        50000\n",
      "Department       HR\n",
      "Name: A, dtype: object\n",
      "A      Alice\n",
      "B        Bob\n",
      "C    Charlie\n",
      "D      David\n",
      "E        Eve\n",
      "Name: Name, dtype: object\n"
     ]
    }
   ],
   "source": [
    "# loc method to access rows and columns\n",
    "dataframe = pd.DataFrame(data, index = [\"A\", \"B\", \"C\", \"D\", \"E\"])\n",
    "print(\"\\nAccessing rows and columns using loc:\")\n",
    "print(dataframe.loc[\"A\"])  # Access row with index 'A'\n",
    "print(dataframe.loc[:, \"Name\"])  # Access 'Name' column for all rows\n",
    "\n",
    "# Selecting Multiple Rows and Columns\n",
    "print(\"\\nSelecting multiple rows and columns:\")\n",
    "print(dataframe.loc[[\"A\", \"C\"], [\"Name\", \"Salary\"]])  # Access 'Name' and 'Salary' for rows 'A' and 'C'\n",
    "print(dataframe.loc[:, [\"Age\", \"Department\"]])  # Access 'Age' and 'Department' for all rows\n",
    "\n",
    "# Accesing specific cell\n",
    "print(\"\\nAccessing specific cell:\")\n",
    "print(dataframe.loc[\"B\", \"Salary\"])  # Access 'Salary' for row with index 'B'\n",
    "\n",
    "# Conditional Selection\n",
    "print(\"\\nConditional selection:\")\n",
    "print(dataframe[dataframe[\"Age\"] > 30])  # Select rows where 'Age' is greater than 30\n",
    "print(\"\\nUsing loc with condition: \")\n",
    "print(dataframe.loc[dataframe[\"Salary\"] < 80000, [\"Name\", \"Department\"]])  # Select 'Name' and 'Department' where 'Salary' is less than 80000"
   ]
  },
  {
   "cell_type": "code",
   "execution_count": 4,
   "id": "17bebda3",
   "metadata": {},
   "outputs": [
    {
     "name": "stdout",
     "output_type": "stream",
     "text": [
      "\n",
      "DataFrame\n",
      "      Name  Age  Salary Department\n",
      "A    Alice   25   50000         HR\n",
      "B      Bob   30   60000    Finance\n",
      "C  Charlie   35   70000         IT\n",
      "D    David   40   80000  Marketing\n",
      "E      Eve   45   90000      Sales\n"
     ]
    }
   ],
   "source": [
    "print(\"\\nDataFrame\")\n",
    "print(dataframe.head())"
   ]
  },
  {
   "cell_type": "markdown",
   "id": "a9465794",
   "metadata": {},
   "source": [
    "iLoc"
   ]
  },
  {
   "cell_type": "code",
   "execution_count": null,
   "id": "cdedc2d5",
   "metadata": {},
   "outputs": [],
   "source": [
    "print(\"\\nIndexing and Slicing using iLoc method:\")\n",
    "# Using iLoc for indexing and slicing\n",
    "print(dataframe.iloc[0])  # Access first row\n",
    "print(dataframe.iloc[:, 1])  # Access second column (Age)\n",
    "print(dataframe.iloc[1:3, 0:2])  # Access rows 1 to 2 and columns 0 to 1\n",
    "# Accessing specific cell using iLoc\n",
    "print(\"\\nAccessing specific cell using iLoc:\")\n",
    "print(dataframe.iloc[2, 1])  # Access 'Age' for the third row (index 2)\n",
    "# Accessing multiple rows and columns using iLoc\n",
    "print(\"\\nAccessing multiple rows and columns using iLoc:\")\n",
    "print(dataframe.iloc[[0, 2], [0, 2]])  # Access 'Name' and 'Salary' for rows 0 and 2\n",
    "# Accessing all rows and specific columns using iLoc\n",
    "print(\"\\nAccessing all rows and specific columns using iLoc:\")\n",
    "print(dataframe.iloc[:, [1, 3]])  # Access 'Age' and 'Department' for all rows\n",
    "# Accessing rows by index range using iLoc\n",
    "print(\"\\nAccessing rows by index range using iLoc:\")\n",
    "print(dataframe.iloc[1:4])  # Access rows 1 to 3\n",
    "# Accessing specific cell using iLoc\n",
    "print(\"\\nAccessing specific cell using iLoc:\")\n",
    "print(dataframe.iloc[3, 2])  # Access 'Salary' for the fourth row (index 3)"
   ]
  }
 ],
 "metadata": {
  "kernelspec": {
   "display_name": "venv",
   "language": "python",
   "name": "python3"
  },
  "language_info": {
   "codemirror_mode": {
    "name": "ipython",
    "version": 3
   },
   "file_extension": ".py",
   "mimetype": "text/x-python",
   "name": "python",
   "nbconvert_exporter": "python",
   "pygments_lexer": "ipython3",
   "version": "3.12.3"
  }
 },
 "nbformat": 4,
 "nbformat_minor": 5
}
