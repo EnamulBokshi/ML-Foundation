{
  "cells": [
    {
      "cell_type": "code",
      "execution_count": null,
      "metadata": {
        "colab": {
          "base_uri": "https://localhost:8080/"
        },
        "id": "kCM8hlHLbZNH",
        "outputId": "353b6c2a-dec6-4371-b969-3a8a12aaabf7"
      },
      "outputs": [
        {
          "name": "stdout",
          "output_type": "stream",
          "text": [
            "   Country   Age   Salary Purchased\n",
            "0   France  44.0  72000.0        No\n",
            "1    Spain  27.0  48000.0       Yes\n",
            "2  Germany  30.0  54000.0        No\n",
            "3    Spain  38.0  61000.0        No\n",
            "4  Germany  40.0      NaN       Yes\n",
            "5   France  35.0  58000.0       Yes\n",
            "6    Spain   NaN  52000.0        No\n",
            "7   France  48.0  79000.0       Yes\n",
            "8  Germany  50.0  83000.0        No\n",
            "9   France  37.0  67000.0       Yes\n"
          ]
        }
      ],
      "source": [
        "import pandas as pd\n",
        "import numpy as np\n",
        "\n",
        "\n",
        "# Pre Processing porjonto Evalution , (inplace = true)** , standelizarion , normalization\n",
        "# Project - Label soho dataset , Target Variable thaka lagbe\n"
      ]
    },
    {
      "cell_type": "code",
      "execution_count": null,
      "metadata": {},
      "outputs": [],
      "source": [
        "filePath = \"../dataset/Data.csv\" \n",
        "\n",
        "dataset = pd.read_csv(filePath)\n",
        "print(dataset)"
      ]
    },
    {
      "cell_type": "markdown",
      "metadata": {
        "id": "nZbar3U8gLOz"
      },
      "source": [
        "## **Handling Missing Values**\n",
        "1. Simpleimputer\n",
        "\n",
        "## **Scaling**\n",
        "1. Minmaxscaler\n",
        "2. Standard Scaler\n",
        "\n",
        "## **Encoding , Categorical Values**\n",
        "1. Feature Values = OneHotEncoder , OrdinalEncoder\n",
        "2. Target Values = labelencoder\n",
        "\n",
        "<br>\n",
        "feature , label columns??"
      ]
    },
    {
      "cell_type": "code",
      "execution_count": null,
      "metadata": {
        "colab": {
          "base_uri": "https://localhost:8080/"
        },
        "id": "ytyOJb2DiBNa",
        "outputId": "22fc4cba-57ec-4208-ac94-f22db95f7d6f"
      },
      "outputs": [
        {
          "name": "stdout",
          "output_type": "stream",
          "text": [
            "[['France' 44.0 72000.0]\n",
            " ['Spain' 27.0 48000.0]\n",
            " ['Germany' 30.0 54000.0]\n",
            " ['Spain' 38.0 61000.0]\n",
            " ['Germany' 40.0 nan]\n",
            " ['France' 35.0 58000.0]\n",
            " ['Spain' nan 52000.0]\n",
            " ['France' 48.0 79000.0]\n",
            " ['Germany' 50.0 83000.0]\n",
            " ['France' 37.0 67000.0]]\n",
            "['No' 'Yes' 'No' 'No' 'Yes' 'Yes' 'No' 'Yes' 'No' 'Yes']\n"
          ]
        }
      ],
      "source": [
        "x = dataset.iloc[:,:-1].values\n",
        "y = dataset.iloc[:,-1].values\n",
        "print(x)\n",
        "print(y)"
      ]
    },
    {
      "cell_type": "markdown",
      "metadata": {
        "id": "tHMt0E4giXzJ"
      },
      "source": [
        "Taking care of missing data\n",
        "\n",
        "** Target value te missing value thakte pare na , jodi thake tahole drop kore dite hoi\n",
        "\n",
        "1. fit - value compute\n",
        "2. Transform - Apply kora"
      ]
    },
    {
      "cell_type": "code",
      "execution_count": null,
      "metadata": {
        "colab": {
          "base_uri": "https://localhost:8080/"
        },
        "id": "tHM3SVkLeNAT",
        "outputId": "00d2742e-eb94-4585-e0f2-c415d8bd05bc"
      },
      "outputs": [
        {
          "name": "stdout",
          "output_type": "stream",
          "text": [
            "[['France' 44.0 72000.0]\n",
            " ['Spain' 27.0 48000.0]\n",
            " ['Germany' 30.0 54000.0]\n",
            " ['Spain' 38.0 61000.0]\n",
            " ['Germany' 40.0 48000.0]\n",
            " ['France' 35.0 58000.0]\n",
            " ['Spain' 27.0 52000.0]\n",
            " ['France' 48.0 79000.0]\n",
            " ['Germany' 50.0 83000.0]\n",
            " ['France' 37.0 67000.0]]\n"
          ]
        }
      ],
      "source": [
        "from sklearn.impute import SimpleImputer\n",
        "imputer = SimpleImputer(missing_values = np.nan, strategy = 'most_frequent')\n",
        "imputer.fit(x[:,1:3])\n",
        "x[:,1:3] = imputer.transform(x[:,1:3]) #Save kora dataset e , ei jonno x first e use\n",
        "# x = imputer.fit_transform(x)\n",
        "print(x)"
      ]
    },
    {
      "cell_type": "markdown",
      "metadata": {
        "id": "J6hxiTwklfwZ"
      },
      "source": [
        "## **Encoding The Independent Variable**\n"
      ]
    },
    {
      "cell_type": "code",
      "execution_count": null,
      "metadata": {
        "colab": {
          "base_uri": "https://localhost:8080/"
        },
        "id": "x1vjyXX0lodw",
        "outputId": "4d395baf-478e-4309-f8b4-6673b4e660ae"
      },
      "outputs": [
        {
          "name": "stdout",
          "output_type": "stream",
          "text": [
            "[[1.0 0.0 1.0 0.0 1.0 0.0 1.0 0.0 1.0 0.0 0.0 44.0 72000.0]\n",
            " [0.0 1.0 0.0 1.0 0.0 1.0 0.0 1.0 1.0 0.0 1.0 27.0 48000.0]\n",
            " [0.0 1.0 0.0 1.0 0.0 1.0 0.0 1.0 0.0 1.0 0.0 30.0 54000.0]\n",
            " [0.0 1.0 0.0 1.0 0.0 1.0 0.0 1.0 1.0 0.0 1.0 38.0 61000.0]\n",
            " [0.0 1.0 0.0 1.0 0.0 1.0 0.0 1.0 0.0 1.0 0.0 40.0 48000.0]\n",
            " [1.0 0.0 1.0 0.0 1.0 0.0 1.0 0.0 1.0 0.0 0.0 35.0 58000.0]\n",
            " [0.0 1.0 0.0 1.0 0.0 1.0 0.0 1.0 1.0 0.0 1.0 27.0 52000.0]\n",
            " [1.0 0.0 1.0 0.0 1.0 0.0 1.0 0.0 1.0 0.0 0.0 48.0 79000.0]\n",
            " [0.0 1.0 0.0 1.0 0.0 1.0 0.0 1.0 0.0 1.0 0.0 50.0 83000.0]\n",
            " [1.0 0.0 1.0 0.0 1.0 0.0 1.0 0.0 1.0 0.0 0.0 37.0 67000.0]]\n"
          ]
        }
      ],
      "source": [
        "from sklearn.compose import ColumnTransformer\n",
        "from sklearn.preprocessing import OneHotEncoder\n",
        "ct = ColumnTransformer(transformers = [('encoder',OneHotEncoder(),[0])],remainder = 'passthrough') # sparse_value = false\n",
        "x = np.array(ct.fit_transform(x))\n",
        "print(x)\n"
      ]
    },
    {
      "cell_type": "markdown",
      "metadata": {
        "id": "WSyyz46am3eQ"
      },
      "source": [
        "## **Encoding the dependent Variable**"
      ]
    },
    {
      "cell_type": "code",
      "execution_count": null,
      "metadata": {
        "colab": {
          "base_uri": "https://localhost:8080/"
        },
        "id": "010DbRz0nAWw",
        "outputId": "4a7c73ea-7be0-4b79-8551-2a5d543f4b6d"
      },
      "outputs": [
        {
          "name": "stdout",
          "output_type": "stream",
          "text": [
            "[0 1 0 0 1 1 0 1 0 1]\n"
          ]
        }
      ],
      "source": [
        "from sklearn.preprocessing import LabelEncoder\n",
        "le = LabelEncoder()\n",
        "y = le.fit_transform(y)\n",
        "print(y)\n",
        "\n",
        "# Why we use column Transformer? Multiple operation kora jai"
      ]
    },
    {
      "cell_type": "markdown",
      "metadata": {
        "id": "spBdq8NxqDH2"
      },
      "source": [
        "## **Scaling**\n",
        "\n",
        "Hw = MinMax"
      ]
    },
    {
      "cell_type": "code",
      "execution_count": null,
      "metadata": {
        "colab": {
          "base_uri": "https://localhost:8080/"
        },
        "id": "8pUGlxRzqAkO",
        "outputId": "8edd4b0d-f8be-411a-da23-e36498bd007a"
      },
      "outputs": [
        {
          "name": "stdout",
          "output_type": "stream",
          "text": [
            "[[ 1.22474487 -1.22474487  1.22474487 -1.22474487  1.22474487 -1.22474487\n",
            "   1.22474487 -1.22474487  0.65465367 -0.65465367 -0.65465367  0.8273403\n",
            "   0.82020574]\n",
            " [-0.81649658  0.81649658 -0.81649658  0.81649658 -0.81649658  0.81649658\n",
            "  -0.81649658  0.81649658  0.65465367 -0.65465367  1.52752523 -1.37028238\n",
            "  -1.18846138]\n",
            " [-0.81649658  0.81649658 -0.81649658  0.81649658 -0.81649658  0.81649658\n",
            "  -0.81649658  0.81649658 -1.52752523  1.52752523 -0.65465367 -0.98246661\n",
            "  -0.6862946 ]\n",
            " [-0.81649658  0.81649658 -0.81649658  0.81649658 -0.81649658  0.81649658\n",
            "  -0.81649658  0.81649658  0.65465367 -0.65465367  1.52752523  0.05170877\n",
            "  -0.10043336]\n",
            " [-0.81649658  0.81649658 -0.81649658  0.81649658 -0.81649658  0.81649658\n",
            "  -0.81649658  0.81649658 -1.52752523  1.52752523 -0.65465367  0.31025261\n",
            "  -1.18846138]\n",
            " [ 1.22474487 -1.22474487  1.22474487 -1.22474487  1.22474487 -1.22474487\n",
            "   1.22474487 -1.22474487  0.65465367 -0.65465367 -0.65465367 -0.336107\n",
            "  -0.35151675]\n",
            " [-0.81649658  0.81649658 -0.81649658  0.81649658 -0.81649658  0.81649658\n",
            "  -0.81649658  0.81649658  0.65465367 -0.65465367  1.52752523 -1.37028238\n",
            "  -0.85368353]\n",
            " [ 1.22474487 -1.22474487  1.22474487 -1.22474487  1.22474487 -1.22474487\n",
            "   1.22474487 -1.22474487  0.65465367 -0.65465367 -0.65465367  1.34442799\n",
            "   1.40606699]\n",
            " [-0.81649658  0.81649658 -0.81649658  0.81649658 -0.81649658  0.81649658\n",
            "  -0.81649658  0.81649658 -1.52752523  1.52752523 -0.65465367  1.60297184\n",
            "   1.74084484]\n",
            " [ 1.22474487 -1.22474487  1.22474487 -1.22474487  1.22474487 -1.22474487\n",
            "   1.22474487 -1.22474487  0.65465367 -0.65465367 -0.65465367 -0.07756315\n",
            "   0.40173343]]\n"
          ]
        }
      ],
      "source": [
        "from sklearn.preprocessing import StandardScaler\n",
        "sc = StandardScaler()\n",
        "x = sc.fit_transform(x)\n",
        "print(x)"
      ]
    }
  ],
  "metadata": {
    "colab": {
      "provenance": []
    },
    "kernelspec": {
      "display_name": "Python 3",
      "name": "python3"
    },
    "language_info": {
      "name": "python"
    }
  },
  "nbformat": 4,
  "nbformat_minor": 0
}
